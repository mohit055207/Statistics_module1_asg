{
  "nbformat": 4,
  "nbformat_minor": 0,
  "metadata": {
    "colab": {
      "provenance": []
    },
    "kernelspec": {
      "name": "python3",
      "display_name": "Python 3"
    },
    "language_info": {
      "name": "python"
    }
  },
  "cells": [
    {
      "cell_type": "markdown",
      "source": [
        "# modelue 1: Basics of Statistics assignment"
      ],
      "metadata": {
        "id": "Y5HF5CjbtdXZ"
      }
    },
    {
      "cell_type": "markdown",
      "source": [
        "1. Explain the different types of data (qualitative and quantitative) and provide examples of each. Discuss\n",
        "nominal, ordinal, interval, and ratio scales.\n",
        "-> **Types of Data:**\n",
        "\n",
        "a. **Qualitative Data (Categorical)**  \n",
        "   - Describes categories or qualities.  \n",
        "   - **Examples:** Gender, colors, types of cuisine.\n",
        "\n",
        "   - **Types:**\n",
        "     - **Nominal:** Categories with no order.  \n",
        "       *Example: Gender (Male, Female), Eye color (Blue, Brown).*\n",
        "     - **Ordinal:** Categories with a meaningful order, but no consistent difference between ranks.  \n",
        "       *Example: T-shirt sizes (Small, Medium, Large), Customer satisfaction (Poor, Fair, Good).*\n",
        "\n",
        "b. **Quantitative Data (Numerical)**  \n",
        "   - Represents measurable quantities.  \n",
        "   - **Examples:** Age, height, salary.\n",
        "\n",
        "   - **Types:**\n",
        "     - **Interval:** Ordered data with equal intervals, but no true zero.  \n",
        "       *Example: Temperature in Celsius or Fahrenheit.*\n",
        "     - **Ratio:** Ordered data with equal intervals and a true zero.  \n",
        "       *Example: Height, weight, age, income.*\n"
      ],
      "metadata": {
        "id": "cTB2Hct9tstp"
      }
    },
    {
      "cell_type": "markdown",
      "source": [
        "2. What are the measures of central tendency, and when should you use each? Discuss the mean, median, and mode with examples and situations where each is appropriate.\n",
        "-> **Measures of Central Tendency:**\n",
        "\n",
        "a. **Mean (Average):**  \n",
        "   - Sum of all values divided by the number of values.  \n",
        "   - **Example:** Average test score of 5 students: (80 + 85 + 90 + 95 + 100) / 5 = 90  \n",
        "   - **Use:** When data is symmetric and has no extreme outliers.\n",
        "\n",
        "b. **Median:**  \n",
        "   - Middle value when data is ordered.  \n",
        "   - **Example:** Median of [50, 60, 70, 100, 1000] is 70  \n",
        "   - **Use:** When data is skewed or contains outliers.\n",
        "\n",
        "c. **Mode:**  \n",
        "   - Most frequently occurring value.  \n",
        "   - **Example:** In [2, 4, 4, 6, 8], the mode is 4  \n",
        "   - **Use:** For categorical data or when identifying the most common value is important."
      ],
      "metadata": {
        "id": "Y_Q4PeNKuCeK"
      }
    },
    {
      "cell_type": "markdown",
      "source": [
        "3. Explain the concept of dispersion. How do variance and standard deviation measure the spread of data?\n",
        "-> **Dispersion:**  \n",
        "Dispersion refers to how spread out the data values are in a dataset. It shows the variability or consistency of data.\n",
        "\n",
        "**Variance:**  \n",
        "- Measures the average squared difference from the mean.  \n",
        "- Higher variance = more spread out data.  \n",
        "- **Example:** Variance of [2, 4, 6] shows how far each number is from the mean (4), squared.\n",
        "\n",
        "**Standard Deviation:**  \n",
        "- Square root of variance.  \n",
        "- Shows spread in the same units as the data.  \n",
        "- **Example:** A standard deviation of 2 means most values are within 2 units from the mean.\n",
        "\n",
        "**Use:** Both are used to understand consistency—lower values mean data is more consistent.\n"
      ],
      "metadata": {
        "id": "cMNHi-VOuMw9"
      }
    },
    {
      "cell_type": "markdown",
      "source": [
        "4. What is a box plot, and what can it tell you about the distribution of data?\n",
        "-> **Box Plot (Box-and-Whisker Plot):**  \n",
        "A box plot is a graphical summary that shows the distribution of a dataset using five key values:  \n",
        "**Minimum, Q1 (25th percentile), Median (Q2), Q3 (75th percentile), Maximum**.\n",
        "\n",
        "**What it tells you:**  \n",
        "- **Spread of data**  \n",
        "- **Center (median)**  \n",
        "- **Skewness** (if box is off-center)  \n",
        "- **Outliers** (points outside the \"whiskers\")  \n",
        "- **Symmetry or asymmetry** of the distribution\n",
        "\n",
        "**Use:** Great for comparing distributions between multiple datasets.\n"
      ],
      "metadata": {
        "id": "SK_iZsFiuYON"
      }
    },
    {
      "cell_type": "markdown",
      "source": [
        "5. Discuss the role of random sampling in making inferences about populations.\n",
        "-> **Random Sampling:**  \n",
        "Random sampling is a method where every individual in a population has an equal chance of being selected.\n",
        "\n",
        "**Role in Inference:**  \n",
        "- Ensures the sample represents the population fairly.  \n",
        "- Reduces bias and improves accuracy of conclusions.  \n",
        "- Allows us to **generalize results** from the sample to the whole population.\n",
        "\n",
        "**Example:** Surveying 100 randomly chosen students to estimate average study time for all students."
      ],
      "metadata": {
        "id": "C3CZVy24uhr3"
      }
    },
    {
      "cell_type": "markdown",
      "source": [
        "6. Explain the concept of skewness and its types. How does skewness affect the interpretation of data?\n",
        "-> **Skewness** shows if data is lopsided or uneven.\n",
        "\n",
        "- **Positive skew:** Tail on the right, mean > median (e.g., income).  \n",
        "- **Negative skew:** Tail on the left, mean < median (e.g., exam scores).  \n",
        "- **No skew (symmetric):** Mean = median.\n",
        "\n",
        "**Effect:** Skewness affects averages and gives clues about data shape."
      ],
      "metadata": {
        "id": "-hzRPJl7u5KU"
      }
    },
    {
      "cell_type": "markdown",
      "source": [
        "7. What is the interquartile range (IQR), and how is it used to detect outliers?\n",
        "-> **IQR** is the range between the 1st and 3rd quartiles (Q3 - Q1).  \n",
        "\n",
        "It shows the middle 50% of data.  \n",
        "\n",
        "**Outliers** are values below **Q1 - 1.5×IQR** or above **Q3 + 1.5×IQR**."
      ],
      "metadata": {
        "id": "PY5-tElqvM4s"
      }
    },
    {
      "cell_type": "markdown",
      "source": [
        "8. Discuss the conditions under which the binomial distribution is used.\n",
        "-> The **binomial distribution** is used when:  \n",
        "1. There are a fixed number of trials (n)  \n",
        "2. Each trial has only **two outcomes**: success or failure  \n",
        "3. The probability of success (**p**) is the same for each trial  \n",
        "4. Trials are **independent**  \n",
        "\n",
        "**Example:** Tossing a coin 10 times and counting heads."
      ],
      "metadata": {
        "id": "R2yGcJ9fvTWJ"
      }
    },
    {
      "cell_type": "markdown",
      "source": [
        "9. Explain the properties of the normal distribution and the empirical rule (68-95-99.7 rule).\n",
        "-> **Normal Distribution:**  \n",
        "- Bell-shaped and symmetric  \n",
        "- Mean = Median = Mode  \n",
        "- Most values cluster around the center  \n",
        "\n",
        "**Empirical Rule:**  \n",
        "In a normal distribution:  \n",
        "- **68%** of data falls within 1 standard deviation (σ)  \n",
        "- **95%** within 2σ  \n",
        "- **99.7%** within 3σ  \n"
      ],
      "metadata": {
        "id": "2hucgfGYvbFv"
      }
    },
    {
      "cell_type": "markdown",
      "source": [
        "10. Provide a real-life example of a Poisson process and calculate the probability for a specific event.\n",
        "-> **Example:** Number of customer calls at a help desk per hour (say, average = 5 calls/hour).\n",
        "\n",
        "**Poisson Formula:**  \n",
        "P(X = k) = (λ^k * e^–λ) / k!  \n",
        "\n",
        "**Find:** Probability of getting exactly 3 calls in an hour  \n",
        "λ = 5, k = 3  \n",
        "P(3) = (5³ * e^–5) / 3! ≈ (125 * 0.0067) / 6 ≈ **0.1404**\n",
        "\n",
        "So, about **14% chance** of getting exactly 3 calls."
      ],
      "metadata": {
        "id": "erR444XtvsHZ"
      }
    },
    {
      "cell_type": "markdown",
      "source": [
        "11. Explain what a random variable is and differentiate between discrete and continuous random variables.\n",
        "-> A **random variable** is a variable that takes on values based on the outcome of a random event.\n",
        "\n",
        "- **Discrete:** Takes **specific** values (countable)  \n",
        "  *Example:* Number of cars in a parking lot (0, 1, 2...)  \n",
        "\n",
        "- **Continuous:** Takes **any value** within a range (measurable)  \n",
        "  *Example:* Height of people (like 5.6 ft, 5.65 ft...)"
      ],
      "metadata": {
        "id": "sQVgITtRvzjt"
      }
    },
    {
      "cell_type": "markdown",
      "source": [
        "12. Provide an example dataset, calculate both covariance and correlation, and interpret the results.\n",
        "-> **Example dataset:**  \n",
        "X = [2, 4, 6, 8]  \n",
        "Y = [1, 3, 5, 7]\n",
        "\n",
        "**Step 1: Covariance**  \n",
        "Cov(X, Y) = 5\n",
        "\n",
        "**Step 2: Correlation**  \n",
        "Corr(X, Y) = 1  \n",
        "\n",
        "**Interpretation:**  \n",
        "- **Covariance** is positive → X and Y increase together.  \n",
        "- **Correlation = 1** → Perfect positive linear relationship."
      ],
      "metadata": {
        "id": "2DX5na6gwBFi"
      }
    }
  ]
}